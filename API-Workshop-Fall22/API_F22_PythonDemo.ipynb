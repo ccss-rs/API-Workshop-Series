{
 "cells": [
  {
   "cell_type": "markdown",
   "metadata": {},
   "source": [
    "# Accessing the Twitter API with Python and Tweepy\n",
    "\n",
    "## Technical requirements\n",
    "\n",
    "To run this tutorial, you will need two things:\n",
    "\n",
    "1. The ability to run Jupyter notebooks. This can either be done through the Binder link found on the readme (and if you're viewing this document inside the Binder web app right now, you're already good to go!), or by [installing Jupyter on your own computer](https://jupyter.org/install) and opening this file there.\n",
    "2. An approved Twitter developer account, which will let you create API keys and a bearer token which are necessary to use the API."
   ]
  },
  {
   "cell_type": "markdown",
   "metadata": {},
   "source": [
    "## Package installation and authetication\n",
    "\n",
    "In data science, there are often some common tasks that we frequently find ourselves doing. Repeatedly writing code for these common tasks would be tiring and inconvenient. For example, when using the vanilla Twitter API, the commands can change from just a few lines to tens and tens of lines that involves things like importing a lot of libraries, more authentication, selecting end points, and managing less readable outputs (see for yourself: https://github.com/twitterdev/Twitter-API-v2-sample-code). Imagine having to do all of that every time we wanted to gather some tweets!\n",
    "\n",
    "This is where *packages* come in. Packages provide pre-written functions for common tasks.\n",
    "\n",
    "We will be using the Tweepy package to access the Twitter API in Python. Additionally, we will be using the Pandas package to do some basic formatting of the search results. The following code cell will install Tweepy and Pandas via pip."
   ]
  },
  {
   "cell_type": "code",
   "execution_count": 1,
   "metadata": {},
   "outputs": [
    {
     "name": "stdout",
     "output_type": "stream",
     "text": [
      "Collecting tweepy\n",
      "  Downloading tweepy-4.11.0-py3-none-any.whl (96 kB)\n",
      "\u001b[K     |████████████████████████████████| 96 kB 3.4 MB/s eta 0:00:011\n",
      "\u001b[?25hRequirement already satisfied: pandas in /home/jpchang/.conda/envs/ccss/lib/python3.9/site-packages (1.3.2)\n",
      "Collecting oauthlib<4,>=3.2.0\n",
      "  Downloading oauthlib-3.2.2-py3-none-any.whl (151 kB)\n",
      "\u001b[K     |████████████████████████████████| 151 kB 34.6 MB/s eta 0:00:01\n",
      "\u001b[?25hCollecting requests<3,>=2.27.0\n",
      "  Downloading requests-2.28.1-py3-none-any.whl (62 kB)\n",
      "\u001b[K     |████████████████████████████████| 62 kB 2.0 MB/s  eta 0:00:01\n",
      "\u001b[?25hRequirement already satisfied: requests-oauthlib<2,>=1.2.0 in /home/jpchang/.conda/envs/ccss/lib/python3.9/site-packages (from tweepy) (1.3.0)\n",
      "Requirement already satisfied: numpy>=1.17.3 in /home/jpchang/.conda/envs/ccss/lib/python3.9/site-packages (from pandas) (1.20.3)\n",
      "Requirement already satisfied: python-dateutil>=2.7.3 in /home/jpchang/.conda/envs/ccss/lib/python3.9/site-packages (from pandas) (2.8.2)\n",
      "Requirement already satisfied: pytz>=2017.3 in /home/jpchang/.conda/envs/ccss/lib/python3.9/site-packages (from pandas) (2021.1)\n",
      "Requirement already satisfied: six>=1.5 in /home/jpchang/.conda/envs/ccss/lib/python3.9/site-packages (from python-dateutil>=2.7.3->pandas) (1.16.0)\n",
      "Requirement already satisfied: urllib3<1.27,>=1.21.1 in /home/jpchang/.conda/envs/ccss/lib/python3.9/site-packages (from requests<3,>=2.27.0->tweepy) (1.26.6)\n",
      "Requirement already satisfied: idna<4,>=2.5 in /home/jpchang/.conda/envs/ccss/lib/python3.9/site-packages (from requests<3,>=2.27.0->tweepy) (3.2)\n",
      "Requirement already satisfied: certifi>=2017.4.17 in /home/jpchang/.conda/envs/ccss/lib/python3.9/site-packages (from requests<3,>=2.27.0->tweepy) (2022.9.24)\n",
      "Requirement already satisfied: charset-normalizer<3,>=2 in /home/jpchang/.conda/envs/ccss/lib/python3.9/site-packages (from requests<3,>=2.27.0->tweepy) (2.0.4)\n",
      "Installing collected packages: requests, oauthlib, tweepy\n",
      "  Attempting uninstall: requests\n",
      "    Found existing installation: requests 2.26.0\n",
      "    Uninstalling requests-2.26.0:\n",
      "      Successfully uninstalled requests-2.26.0\n",
      "  Attempting uninstall: oauthlib\n",
      "    Found existing installation: oauthlib 3.1.1\n",
      "    Uninstalling oauthlib-3.1.1:\n",
      "      Successfully uninstalled oauthlib-3.1.1\n",
      "Successfully installed oauthlib-3.2.2 requests-2.28.1 tweepy-4.11.0\n"
     ]
    }
   ],
   "source": [
    "!pip install tweepy pandas"
   ]
  },
  {
   "cell_type": "markdown",
   "metadata": {},
   "source": [
    "Now that the package is installed, we can *import* it, allowing us to use it in our code:"
   ]
  },
  {
   "cell_type": "code",
   "execution_count": 2,
   "metadata": {},
   "outputs": [],
   "source": [
    "import tweepy"
   ]
  },
  {
   "cell_type": "markdown",
   "metadata": {},
   "source": [
    "The first step in accessing the Twitter API is *authentication*. This is the same kind of process as logging in on a website - it lets the API know who you are, so that it can check if you have permission to access the data. In tweepy, authentication is handled by a `tweepy.Client` object. To authenticate, all you need to do is tell `tweepy.Client` your *bearer token*, which is our unique ID tied to our Twitter developer account (see the [official Twitter documentation](https://developer.twitter.com/en/docs/authentication/oauth-2-0/bearer-tokens) for more details):"
   ]
  },
  {
   "cell_type": "code",
   "execution_count": 3,
   "metadata": {},
   "outputs": [],
   "source": [
    "client = tweepy.Client(\n",
    "    bearer_token=\"Paste your bearer token inside these quotes\"\n",
    ")"
   ]
  },
  {
   "cell_type": "markdown",
   "metadata": {},
   "source": [
    "After running the cell above, the `client` variable now remembers our authentication info, and we can use it to talk to the Twitter API."
   ]
  },
  {
   "cell_type": "markdown",
   "metadata": {},
   "source": [
    "## Collecting Tweets\n",
    "\n",
    "The most common reason to use the Twitter API for social science research is searching for tweets. In tweepy, this is done using the `search_all_tweets` method. Here is a list of all the options you have for `search_all_tweets`:\n",
    "\n",
    "```\n",
    "Client.search_all_tweets(\n",
    "    query, \n",
    "    end_time, \n",
    "    expansions, \n",
    "    max_results, \n",
    "    media_fields,\n",
    "    next_token, \n",
    "    place_fields, \n",
    "    poll_fields, \n",
    "    since_id, \n",
    "    start_time, \n",
    "    tweet_fields, \n",
    "    until_id, \n",
    "    user_fields\n",
    ")\n",
    "```\n",
    "\n",
    "As you can see, we have the ability to specify our search via a query, set a date beginning or end, the number of tweets we want, and more! Let's try an example:"
   ]
  },
  {
   "cell_type": "code",
   "execution_count": 4,
   "metadata": {},
   "outputs": [
    {
     "ename": "Forbidden",
     "evalue": "403 Forbidden\nWhen authenticating requests to the Twitter API v2 endpoints, you must use keys and tokens from a Twitter developer App that is attached to a Project. You can create a project via the developer portal.",
     "output_type": "error",
     "traceback": [
      "\u001b[0;31m---------------------------------------------------------------------------\u001b[0m",
      "\u001b[0;31mForbidden\u001b[0m                                 Traceback (most recent call last)",
      "\u001b[0;32m/tmp/ipykernel_1702086/3131454029.py\u001b[0m in \u001b[0;36m<module>\u001b[0;34m\u001b[0m\n\u001b[0;32m----> 1\u001b[0;31m tweets = client.search_all_tweets(query=\"Saint Patrick's Day\", # keyword search (in this case, we want the text \"Saint Patrick's Day\")\n\u001b[0m\u001b[1;32m      2\u001b[0m                                   \u001b[0mstart_time\u001b[0m\u001b[0;34m=\u001b[0m\u001b[0;34m\"2021-03-16T00:00:00Z\"\u001b[0m\u001b[0;34m,\u001b[0m \u001b[0;31m# start and end dates we want to search over\u001b[0m\u001b[0;34m\u001b[0m\u001b[0;34m\u001b[0m\u001b[0m\n\u001b[1;32m      3\u001b[0m                                   \u001b[0mend_time\u001b[0m\u001b[0;34m=\u001b[0m\u001b[0;34m\"2021-03-18T00:00:00Z\"\u001b[0m\u001b[0;34m,\u001b[0m\u001b[0;34m\u001b[0m\u001b[0;34m\u001b[0m\u001b[0m\n\u001b[1;32m      4\u001b[0m                                   max_results=100) # how many results do you want?\n",
      "\u001b[0;32m~/.conda/envs/ccss/lib/python3.9/site-packages/tweepy/client.py\u001b[0m in \u001b[0;36msearch_all_tweets\u001b[0;34m(self, query, **params)\u001b[0m\n\u001b[1;32m   1150\u001b[0m         \"\"\"\n\u001b[1;32m   1151\u001b[0m         \u001b[0mparams\u001b[0m\u001b[0;34m[\u001b[0m\u001b[0;34m\"query\"\u001b[0m\u001b[0;34m]\u001b[0m \u001b[0;34m=\u001b[0m \u001b[0mquery\u001b[0m\u001b[0;34m\u001b[0m\u001b[0;34m\u001b[0m\u001b[0m\n\u001b[0;32m-> 1152\u001b[0;31m         return self._make_request(\n\u001b[0m\u001b[1;32m   1153\u001b[0m             \u001b[0;34m\"GET\"\u001b[0m\u001b[0;34m,\u001b[0m \u001b[0;34m\"/2/tweets/search/all\"\u001b[0m\u001b[0;34m,\u001b[0m \u001b[0mparams\u001b[0m\u001b[0;34m=\u001b[0m\u001b[0mparams\u001b[0m\u001b[0;34m,\u001b[0m\u001b[0;34m\u001b[0m\u001b[0;34m\u001b[0m\u001b[0m\n\u001b[1;32m   1154\u001b[0m             endpoint_parameters=(\n",
      "\u001b[0;32m~/.conda/envs/ccss/lib/python3.9/site-packages/tweepy/client.py\u001b[0m in \u001b[0;36m_make_request\u001b[0;34m(self, method, route, params, endpoint_parameters, json, data_type, user_auth)\u001b[0m\n\u001b[1;32m    124\u001b[0m         \u001b[0mrequest_params\u001b[0m \u001b[0;34m=\u001b[0m \u001b[0mself\u001b[0m\u001b[0;34m.\u001b[0m\u001b[0m_process_params\u001b[0m\u001b[0;34m(\u001b[0m\u001b[0mparams\u001b[0m\u001b[0;34m,\u001b[0m \u001b[0mendpoint_parameters\u001b[0m\u001b[0;34m)\u001b[0m\u001b[0;34m\u001b[0m\u001b[0;34m\u001b[0m\u001b[0m\n\u001b[1;32m    125\u001b[0m \u001b[0;34m\u001b[0m\u001b[0m\n\u001b[0;32m--> 126\u001b[0;31m         response = self.request(method, route, params=request_params,\n\u001b[0m\u001b[1;32m    127\u001b[0m                                 json=json, user_auth=user_auth)\n\u001b[1;32m    128\u001b[0m \u001b[0;34m\u001b[0m\u001b[0m\n",
      "\u001b[0;32m~/.conda/envs/ccss/lib/python3.9/site-packages/tweepy/client.py\u001b[0m in \u001b[0;36mrequest\u001b[0;34m(self, method, route, params, json, user_auth)\u001b[0m\n\u001b[1;32m     97\u001b[0m                 \u001b[0;32mraise\u001b[0m \u001b[0mUnauthorized\u001b[0m\u001b[0;34m(\u001b[0m\u001b[0mresponse\u001b[0m\u001b[0;34m)\u001b[0m\u001b[0;34m\u001b[0m\u001b[0;34m\u001b[0m\u001b[0m\n\u001b[1;32m     98\u001b[0m             \u001b[0;32mif\u001b[0m \u001b[0mresponse\u001b[0m\u001b[0;34m.\u001b[0m\u001b[0mstatus_code\u001b[0m \u001b[0;34m==\u001b[0m \u001b[0;36m403\u001b[0m\u001b[0;34m:\u001b[0m\u001b[0;34m\u001b[0m\u001b[0;34m\u001b[0m\u001b[0m\n\u001b[0;32m---> 99\u001b[0;31m                 \u001b[0;32mraise\u001b[0m \u001b[0mForbidden\u001b[0m\u001b[0;34m(\u001b[0m\u001b[0mresponse\u001b[0m\u001b[0;34m)\u001b[0m\u001b[0;34m\u001b[0m\u001b[0;34m\u001b[0m\u001b[0m\n\u001b[0m\u001b[1;32m    100\u001b[0m             \u001b[0;32mif\u001b[0m \u001b[0mresponse\u001b[0m\u001b[0;34m.\u001b[0m\u001b[0mstatus_code\u001b[0m \u001b[0;34m==\u001b[0m \u001b[0;36m404\u001b[0m\u001b[0;34m:\u001b[0m\u001b[0;34m\u001b[0m\u001b[0;34m\u001b[0m\u001b[0m\n\u001b[1;32m    101\u001b[0m                 \u001b[0;32mraise\u001b[0m \u001b[0mNotFound\u001b[0m\u001b[0;34m(\u001b[0m\u001b[0mresponse\u001b[0m\u001b[0;34m)\u001b[0m\u001b[0;34m\u001b[0m\u001b[0;34m\u001b[0m\u001b[0m\n",
      "\u001b[0;31mForbidden\u001b[0m: 403 Forbidden\nWhen authenticating requests to the Twitter API v2 endpoints, you must use keys and tokens from a Twitter developer App that is attached to a Project. You can create a project via the developer portal."
     ]
    }
   ],
   "source": [
    "tweets = client.search_all_tweets(query=\"Saint Patrick's Day\", # keyword search (in this case, we want the text \"Saint Patrick's Day\")\n",
    "                                  start_time=\"2021-03-16T00:00:00Z\", # start and end dates we want to search over\n",
    "                                  end_time=\"2021-03-18T00:00:00Z\",\n",
    "                                  max_results=100) # how many results do you want?"
   ]
  },
  {
   "cell_type": "markdown",
   "metadata": {},
   "source": [
    "What we have just done is ask the Twitter API for up to 100 tweets mentioning \"Saint Patrick's Day\" posted between March 16-18, 2021. We then saved the results to a variable called `tweets`. But what this this variable actually contain? Let's try printing it out:"
   ]
  },
  {
   "cell_type": "code",
   "execution_count": 5,
   "metadata": {},
   "outputs": [
    {
     "name": "stdout",
     "output_type": "stream",
     "text": [
      "Response(data=[<Tweet id=1372336936195592200 text=Happy Saint Patrick’s day everyone!! @8Egan @AkronCoachZ @ZipsFB https://t.co/HeoYinJEOa>, <Tweet id=1372336933293207555 text=Happy Saint Patrick's Day!!! Let's Get Rowdy!! https://t.co/eDgN8nhUCz>, <Tweet id=1372336926527733764 text=RT @ChipsAhoy: One is not like the others... 👀 Happy Saint Patrick's Day! https://t.co/TFHloXnsws>, <Tweet id=1372336915068948484 text=Happy Saint Patrick’s Day #StPatricksDay https://t.co/gKdwBQjt73>, <Tweet id=1372336914909573123 text=Saint Patrick's Day Show - Who will win the lucky mouse pad? Extreme Anime Radio Podcast - 3/17/2021 https://t.co/oycCp98nP7\n",
      "#twitch #twitchstreamer #twitchaffiliate #twitchgiveaway @twitch>, <Tweet id=1372336885775863809 text=I think you might have a problem if you take  Saint Patrick's day off just to drink all day. 🤷‍♂️>, <Tweet id=1372336864439410693 text=RT @LunarClient: Happy #StPatricksDay!\n",
      "\n",
      "Our new limited edition Spring and Saint Patrick's Day cosmetics are now on sale at https://t.co/vl…>, <Tweet id=1372336860488331265 text=RT @sexylibrarianxx: So I forgot to wear green today! Rushed off to work without remembering that it was Saint Patrick’s day, and the only…>, <Tweet id=1372336853957890049 text=RT @Trent_Ryderxxx: I had some fun with @KnoxKillian this weekend. For more like this, subscribe to my OF. 20% off sale through Saint Patri…>, <Tweet id=1372336851101614082 text=Happy Saint Patrick’s Day! Cheers!!! @ Yard House https://t.co/4LZPDCWZzK>, <Tweet id=1372336841836404739 text=RT @gabrielpiracaia: Que saint patrick's day o que meu filho\n",
      "\n",
      "cê nasceu em piraporinha do bom jesus e é neto da dona lourdes e do seu tião>, <Tweet id=1372336838707273728 text=RT @AngelaBelcamino: @laurenboebert It's Saint Patrick's Day Lauren... not April Fools you moron.>, <Tweet id=1372336827449888775 text=Happy Saint Patrick’s day never forget how mad my mom was when I sent her this picture from an Irish cliff https://t.co/GPGxPcwP1V>, <Tweet id=1372336826506223621 text=RT @inthehobbithole: E anche questo saint Patrick’s day non sono in Irlanda a spaccarmi>, <Tweet id=1372336824190967808 text=RT @ELRAY811: Happy Saint Patrick’s Day! Plush green oversized chairs are a callin! (@ Marshall Home STL in Washington, MO w/ @drsleepsyste…>, <Tweet id=1372336812593713157 text=RT @UlsterScotsAgen: Happy St. Patrick's Day! \n",
      "\n",
      "Please enjoy our short video and let's rediscover the shared stories of Patrick, Ulster's S…>, <Tweet id=1372336812002312196 text=RT @el_booki: Happy Saint Patrick's Day 🍀\n",
      "\n",
      "Fun fact, I totally forgot it was today, yet I just so happened to draw Booki on a kilt, I swear…>, <Tweet id=1372336807912730624 text=RT @Buckhout_Bull: Some Irish history for Saint Patrick’s Day. Some would have you think this is a story of blight and @plantdisease ... Th…>, <Tweet id=1372336802405703681 text=Happy Saint Patrick’s Day! 🍀🍀🍀 https://t.co/lUjLzj6fb8>, <Tweet id=1372336772873609219 text=RT @sexylibrarianxx: So I forgot to wear green today! Rushed off to work without remembering that it was Saint Patrick’s day, and the only…>, <Tweet id=1372336771921494016 text=RT @patrickdextervc: The music of Ireland's national composer, Turlough O'Carolan. Born 350 years ago, he wrote this melody for his first l…>, <Tweet id=1372336767857262595 text=Happy Saint Patrick’s Day!! Thankful for the Akron Love!! @8Egan @AkronCoachZ @Coach_Cicione https://t.co/WrRvxCfg8s>, <Tweet id=1372336766754160641 text=Happy St. Patrick's Day!\n",
      "\n",
      "May the Irish be blessed, and may all the others pretending to be Irish today enjoy the laughter, green things, beer, music &amp; cheer we usually bring 'round to celebrate a feast day of a truly grand Catholic saint. https://t.co/pL9EyjYrnK>, <Tweet id=1372336765638434820 text=RT @Trent_Ryderxxx: Happy Saint Patrick’s Day! https://t.co/bNx07Cir4R>, <Tweet id=1372336761095942147 text=RT @PeelinTheOrange: Happy Saint Patrick's Day!!!!\n",
      "\n",
      "Commission for Dece!\n",
      "\n",
      "#nsfw #commission #hugedick https://t.co/n3G685cckH>, <Tweet id=1372336757497327617 text=RT @Dream: no one can pinch me on Saint Patrick's Day I am literally green>, <Tweet id=1372336746315268099 text=RT @FOSFUSA: Saint Patrick's Day greetings from @MaryLouMcDonald. #time4unity #StPatricksDay https://t.co/Zi1LqLP3sq>, <Tweet id=1372336743148576769 text=Love almost getting hit by a drunk driver, happy Saint Patrick's Day 🍀>, <Tweet id=1372336743022792706 text=Benny found himself a green rock on Saint Patrick's Day! That's kind of like a four leaf clover. Hope you all are doing well. ❤️🍀\n",
      ".\n",
      "#stpatricksday #saintpatricksday #rotties #rottweiler #rottweilers #rottie https://t.co/w66sec0htq>, <Tweet id=1372336742548733953 text=Saint Patrick’s Day is my favorite holiday 🍀>, <Tweet id=1372336723775135749 text=RT @Padded_Panda: Quick pics for saint patrick's day 💚🍀💚\n",
      "\n",
      "My skin is still a little irritated so I probably will change soon tho :&lt; https:/…>, <Tweet id=1372336719492743169 text=RT @Neg_Lagonav: Why do we gotta celebrate Saint Patrick’s day again? https://t.co/b1j9x84uZV>, <Tweet id=1372336718947495940 text=RT @ZwartblesIE: Happy Saint Patrick’s Day\n",
      "May the road rise up to meet you\n",
      "May the wind be always at your back\n",
      "May the sun shine warm upon…>, <Tweet id=1372336705919975427 text=Happy Saint Patrick's Day! Indulge with this St. Pats Shamrock Shake recipe that can be a delicious virgin drink or go a wee bit crazy and add a splash of spirit to it! https://t.co/UJgImx6Q08 https://t.co/d2OZ4NU6Qz>, <Tweet id=1372336698638614532 text=RT @JenniferTilly: Happy Saint Patrick’s Day! ☘️🍀☘️ https://t.co/4qizKPQsGk>, <Tweet id=1372336692808581120 text=RT @Repomorame: Happy Saint Patrick's day! \n",
      "If you're not wearing green, Cream will find you and punish ya in different ways! https://t.co/…>, <Tweet id=1372336685971816449 text=RT @KristiLacroix2: Happy Saint Patrick's day\n",
      "\n",
      "https://t.co/72oomv5mqW\n",
      "4.50$ only for today. https://t.co/fuUN9Mb5Gz>, <Tweet id=1372336680871596034 text=Sláinte! Happy Saint Patrick's Day from our family to yours.  Watching #floggingmollyl from Dublin! 🍻🥃🍀🇮🇪 \n",
      ".\n",
      ".\n",
      "#celtic  #stpatricksday #floggingmollylive #cheera #slainte #march17 #irishwhiskey @ Wilmot, Ontario https://t.co/tUYGMTievw>, <Tweet id=1372336668477390851 text=@donie @RTEOne Happy Saint Patrick’s day Mr. O’Sullivan. I love to watch your reports.>, <Tweet id=1372336656087400453 text=RT @Dream: no one can pinch me on Saint Patrick's Day I am literally green>, <Tweet id=1372336652841009160 text=RT @wwwJam: \"Oh! Here's one, Madeline!\"\n",
      "A Saint Patrick's Day pic with @DomCellini_Art's Emmy and Madeline. I think they both look really c…>, <Tweet id=1372336630044983304 text=RT @NibblesArt: Happy Saint Patrick's Day w/ Irish the Hedgehog!\n",
      "\n",
      "Original lineart by @321pietime https://t.co/8YIFjUKVm2>, <Tweet id=1372336629185191948 text=Happy SAINT Patrick’s Day! (Don’t forget the saint) 😃 https://t.co/IuQYxVnWjo>, <Tweet id=1372336625947181058 text=RT @Marshal16961787: @ElenaRu76305433 Happy Saint Patrick’s Day! Scouting crews discover an anomaly on a new world, endlessly broadcasting…>, <Tweet id=1372336612906917888 text=RT @NibblesArt: Happy Saint Patrick's Day w/ Irish the Hedgehog!\n",
      "\n",
      "Original lineart by @321pietime https://t.co/8YIFjUKVm2>, <Tweet id=1372336601116774402 text=RT @FlickerOfSun_: Thank you, happy saint Patrick's day, lovely day \n",
      "\n",
      "Niall Horan\n",
      "\n",
      "Eso fue lo último que dijo, y ya lo extraño, vuelve http…>, <Tweet id=1372336600152223744 text=RT @OnlyInBOS: Happy Saint Patrick's Day from Brookline!\n",
      "\n",
      "☘\n",
      "\n",
      "📹: @MackenzieLinn2 https://t.co/rD3jvSB7PF>, <Tweet id=1372336594364071936 text=RT @LDCSB: Happy St. Patrick's Day! Did you know St. Patrick, the patron saint of Ireland, was NOT Irish? He was born in Scotland and captu…>, <Tweet id=1372336591738392583 text=RT @Dream: no one can pinch me on Saint Patrick's Day I am literally green>, <Tweet id=1372336583421100046 text=RT @Doberart: It’s your lucky day! Have a wonderful Saint Patrick’s Day! #BENDY #BATIM #Bendy_and_the_ink_machine https://t.co/ThKhT0mjaS>, <Tweet id=1372336582045310979 text=RT @Agood_driver: This Saint Patrick's Day we're celebrating Colm Meaney https://t.co/qVrUBYhVG6>, <Tweet id=1372336577960144897 text=@AsterismUnited Happy Saint Patrick's Day ☘️ 😁>, <Tweet id=1372336577741996034 text=Cuz yea... I did not know it was Saint Patrick's Day 🍀.>, <Tweet id=1372336558079160323 text=On Saint Patrick’s Day I’m grateful for my Mc family that found its way to America and were immediately enlisted into war and prejudice. As a Texan I’m grateful for my friends from south of the border. None of us care about your imaginary lines in the sand. Love wins. Slainte ☘️>, <Tweet id=1372336551561150474 text=RT @catholicheritag: If you're Irish, come into the parlour! There's a welcome there for you! \n",
      "\n",
      "☘Happy☘Saint☘Patrick's☘Day☘ https://t.co/6U…>, <Tweet id=1372336550567108615 text=RT @NibblesArt: Happy Saint Patrick's Day w/ Irish the Hedgehog!\n",
      "\n",
      "Original lineart by @321pietime https://t.co/8YIFjUKVm2>, <Tweet id=1372336548952346628 text=Que saint patrick's day o que meu filho\n",
      "\n",
      "cê nasceu em piraporinha do bom jesus e é neto da dona lourdes e do seu tião>, <Tweet id=1372336544095277056 text=RT @NevermoreJwlry: ☘️Feeling green☘️\n",
      "Here are a few of the green pieces in my shop! It doesn’t have to be Saint Patrick’s Day to wear gree…>, <Tweet id=1372336530082123776 text=Happy Saint Patrick's Day everyone! https://t.co/bpsVTkJuRW>, <Tweet id=1372336528706387968 text=RT @barbarossa_joe: To all those NOT of an Irish heritage who are currently engaged in Cultural Appropriation with regards to Saint Patrick…>, <Tweet id=1372336523312529412 text=RT @Dream: no one can pinch me on Saint Patrick's Day I am literally green>, <Tweet id=1372336511316807680 text=RT @tigistAA: It's fascinating how one French speaking tweep Retweeted 👇 and it went all French. \n",
      "\n",
      "Happy Saint Patrick's Day #Ireland 🇮🇪 \n",
      "W…>, <Tweet id=1372336505562275842 text=Awe, Monsignor Ritchie in the kitchen. \n",
      "\n",
      "Encouraging all to donate to Saint Patrick’s Cathedral special fund raiser today.  https://t.co/3XWvGzAcza \n",
      "\n",
      "It’s been a great day. Lt Gov Kathy Hochul in attendance at mass. https://t.co/JZD9M7Y5JA>, <Tweet id=1372336476701212673 text=what’s the point of saint patrick’s day anyway>, <Tweet id=1372336476692811777 text=RT @TheDamaniFelder: Shout out to the Irish for not being idiots and accusing others of \"cultural appropriation\" on Saint Patrick's Day. If…>, <Tweet id=1372336475203805184 text=RT @SeattleFire: Happy Saint Patrick’s Day from your Seattle Fire Department!☘️ https://t.co/FhreOaZu9b>, <Tweet id=1372336474545262593 text=RT @dailybunnygirls: a bonus because it’s Saint Patrick’s day: the festive bunny girl of the day is: Hitomi 🐇 Dead or Alive https://t.co/Xn…>, <Tweet id=1372336447580147715 text=Going live with some Dead By Daylight! Plan on drinking along the way because its Saint Patrick's Day XD\n",
      "\n",
      "https://t.co/wJirZfOD0Z>, <Tweet id=1372336443427713027 text=@so_sofs At least I'm wearing a green long sleeve shirt today! Happy Saint Patrick's day! ☘🍀💚💰✌😎👍🤙☯️❤💛❤💛💙🤎💙🤎💗💕💞💯>, <Tweet id=1372336424138256393 text=RT @WagnerCollegeFH: Happy Saint Patrick’s day! 🍀🌈🌟Enjoy this little Irish jig by our very own Emma Brushingham 🍀🤩🍀#madskillz #ThatFootwork…>, <Tweet id=1372336414789140480 text=RT @patrickdextervc: The music of Ireland's national composer, Turlough O'Carolan. Born 350 years ago, he wrote this melody for his first l…>, <Tweet id=1372336413220438017 text=The Saint Patrick's Day Special https://t.co/kN0cGtL2dR via @YouTube>, <Tweet id=1372336408598347776 text=RT @DustinPoirier: Happy Saint Patrick's Day>, <Tweet id=1372336390755717121 text=RT @PrimeVideoBR: Dia 17/3. Pro mundo: Saint Patrick's Day. Pra Mim: Dia do Guarda-Chuva Amarelo (e do Barney saindo da lata de lixo 🗣). ht…>, <Tweet id=1372336383826726912 text=RT @Agood_driver: This Saint Patrick's Day we're celebrating Colm Meaney https://t.co/qVrUBYhVG6>, <Tweet id=1372336382388097024 text=RT @FOSFUSA: Saint Patrick's Day greetings from @MaryLouMcDonald. #time4unity #StPatricksDay https://t.co/Zi1LqLP3sq>, <Tweet id=1372336380689448966 text=RT @HistoryMuppet: It just wouldn't be Saint Patrick's Day if I didn't share this moment from The Muppet Show\n",
      "\n",
      "Hope you all have a lovely (…>, <Tweet id=1372336377287876616 text=RT @ClydeHusky: Happy Saint Patrick’s day!!🍀♥️🐾\n",
      "\n",
      "#dogs #Saints #HappySaintPatricksDay # https://t.co/Gr3mxw6qnR>, <Tweet id=1372336373496123392 text=RT @dailybunnygirls: a bonus because it’s Saint Patrick’s day: the festive bunny girl of the day is: Hitomi 🐇 Dead or Alive https://t.co/Xn…>, <Tweet id=1372336366927949828 text=RT @LunarClient: Happy #StPatricksDay!\n",
      "\n",
      "Our new limited edition Spring and Saint Patrick's Day cosmetics are now on sale at https://t.co/vl…>, <Tweet id=1372336354827378691 text=RT @jfrog: Happy Saint Patrick’s Day, Everyone! 🍻 It’s a lucky day! 🍀 Green is in - ribbons, hats, doughnuts, and beers. 🍀 Shamrock Wishes…>, <Tweet id=1372336351635464196 text=RT @Othalite: Les anglicistes ne pas tweeter sur Saint Patrick's Day challenge\n",
      "\n",
      "Même si Dublin me manque 💚>, <Tweet id=1372336347013214210 text=RT @blake_gordon17: Happy Saint Patrick’s Day! https://t.co/9YlJ79LgTE>, <Tweet id=1372336346510024705 text=RT @HistoryMuppet: It just wouldn't be Saint Patrick's Day if I didn't share this moment from The Muppet Show\n",
      "\n",
      "Hope you all have a lovely (…>, <Tweet id=1372336343179612165 text=RT @Dream: no one can pinch me on Saint Patrick's Day I am literally green>, <Tweet id=1372336339031560192 text=If no one told you today , happy saint Patrick’s day>, <Tweet id=1372336338272358400 text=RT @TheDamaniFelder: Shout out to the Irish for not being idiots and accusing others of \"cultural appropriation\" on Saint Patrick's Day. If…>, <Tweet id=1372336334635999235 text=RT @Ter0me: It’s Saint Patrick’s day and literally nobody gives a shit>, <Tweet id=1372336330634452992 text=RT @Trent_Ryderxxx: Happy Saint Patrick’s Day! https://t.co/bNx07Cir4R>, <Tweet id=1372336323718176771 text=is it Saint Patrick’s Day or no>, <Tweet id=1372336311504371712 text=📷 Happy Saint Patrick’s Day https://t.co/pvitQaxZaY https://t.co/DKysXXLwaX>, <Tweet id=1372336308807421954 text=RT @patrickdextervc: The music of Ireland's national composer, Turlough O'Carolan. Born 350 years ago, he wrote this melody for his first l…>, <Tweet id=1372336306899062786 text=Happy Saint Patrick’s Day https://t.co/LpbY3ibfCq>, <Tweet id=1372336304806105092 text=RT @TheLyons_Den: Someone said it was Saint Patrick's Day?\n",
      "\n",
      "Nah, it’s the @mikescott sip game anniversary. https://t.co/ImfdHOzsRS>, <Tweet id=1372336303346388995 text=@akent47 @CkFlakes On Saint Patrick’s Day. You dare trash Beer. Wow.>], includes={}, errors=[], meta={'newest_id': '1372336936195592200', 'oldest_id': '1372336303346388995', 'result_count': 95, 'next_token': 'b26v89c19zqg8o3fosqrur3hvij7wfoyq2rwf75iuf3i5'})\n"
     ]
    }
   ],
   "source": [
    "print(tweets)"
   ]
  },
  {
   "cell_type": "markdown",
   "metadata": {},
   "source": [
    "This is not exactly very human-readable! But if we look carefully there are a few useful things we may notice. The most important thing is that inside the Response we got from the API, there is a list of tweets in a variable called `data`. In each tweet, we can see that there is an ID and the text of the tweet. This seems like the kind of data that would be best represented in a tabular format, if we want to explore it in a human-readable way. We can accomplish this using the Pandas package. Pandas provides tabular data formatting to Python in the form of R-style \"Data Frames\" (more here: https://pandas.pydata.org/)."
   ]
  },
  {
   "cell_type": "code",
   "execution_count": 6,
   "metadata": {},
   "outputs": [],
   "source": [
    "import pandas # import the Pandas package so we can use its functions\n",
    "tweets_df = pandas.DataFrame(tweets.data) # put the data into a tabular format and save it as tweets_df"
   ]
  },
  {
   "cell_type": "code",
   "execution_count": 8,
   "metadata": {},
   "outputs": [
    {
     "name": "stdout",
     "output_type": "stream",
     "text": [
      "                    id                                               text\n",
      "0  1372336936195592200  Happy Saint Patrick’s day everyone!! @8Egan @A...\n",
      "1  1372336933293207555  Happy Saint Patrick's Day!!! Let's Get Rowdy!!...\n",
      "2  1372336926527733764  RT @ChipsAhoy: One is not like the others... 👀...\n",
      "3  1372336915068948484  Happy Saint Patrick’s Day #StPatricksDay https...\n",
      "4  1372336914909573123  Saint Patrick's Day Show - Who will win the lu...\n"
     ]
    }
   ],
   "source": [
    "print(tweets_df.head(5)) # more readable, right?"
   ]
  },
  {
   "cell_type": "markdown",
   "metadata": {},
   "source": [
    "Much better, right?\n",
    "\n",
    "Oftentimes we may want more information than just the ID and the text. *Metadata*, the other miscellaneous descriptive properties of a tweet, can often be useful for research as well. We can specify what properties we want by using the `tweet_fields` parameter of the `get_all_tweets` method. A full list of available properties are available at the following documentation page: https://developer.twitter.com/en/docs/twitter-api/data-dictionary/object-model/tweet.\n",
    "\n",
    "As an example, let's expand our last search to give us information about who wrote each tweet, when each tweet was posted, and what conversation each tweet belongs to, in addition to the ID and text:"
   ]
  },
  {
   "cell_type": "code",
   "execution_count": 17,
   "metadata": {},
   "outputs": [],
   "source": [
    "tweets = client.search_all_tweets(query=\"Saint Patrick's Day\", \n",
    "                                  start_time=\"2021-03-16T00:00:00Z\", \n",
    "                                  end_time=\"2021-03-18T00:00:00Z\",\n",
    "                                  tweet_fields=[\"id\", \"text\", \"author_id\", \"conversation_id\", \"created_at\"], # specify all desired properties in a list (ID and text must be explicitly included if you still want them)\n",
    "                                  max_results=100) "
   ]
  },
  {
   "cell_type": "code",
   "execution_count": 18,
   "metadata": {},
   "outputs": [
    {
     "name": "stdout",
     "output_type": "stream",
     "text": [
      "              author_id      conversation_id                created_at  \\\n",
      "0   1102273224245764101  1372336936195592200 2021-03-17 23:59:57+00:00   \n",
      "1    946879478633873408  1372336933293207555 2021-03-17 23:59:56+00:00   \n",
      "2   1191482696847020033  1372336926527733764 2021-03-17 23:59:54+00:00   \n",
      "3    710323992360517632  1372336915068948484 2021-03-17 23:59:51+00:00   \n",
      "4              67043745  1372336914909573123 2021-03-17 23:59:51+00:00   \n",
      "..                  ...                  ...                       ...   \n",
      "90             14364967  1372336311504371712 2021-03-17 23:57:28+00:00   \n",
      "91            236760689  1372336308807421954 2021-03-17 23:57:27+00:00   \n",
      "92             14364967  1372336306899062786 2021-03-17 23:57:26+00:00   \n",
      "93  1352141744343822340  1372336304806105092 2021-03-17 23:57:26+00:00   \n",
      "94             30032578  1372268967516123137 2021-03-17 23:57:26+00:00   \n",
      "\n",
      "                     id                                               text  \n",
      "0   1372336936195592200  Happy Saint Patrick’s day everyone!! @8Egan @A...  \n",
      "1   1372336933293207555  Happy Saint Patrick's Day!!! Let's Get Rowdy!!...  \n",
      "2   1372336926527733764  RT @ChipsAhoy: One is not like the others... 👀...  \n",
      "3   1372336915068948484  Happy Saint Patrick’s Day #StPatricksDay https...  \n",
      "4   1372336914909573123  Saint Patrick's Day Show - Who will win the lu...  \n",
      "..                  ...                                                ...  \n",
      "90  1372336311504371712  📷 Happy Saint Patrick’s Day https://t.co/pvitQ...  \n",
      "91  1372336308807421954  RT @patrickdextervc: The music of Ireland's na...  \n",
      "92  1372336306899062786  Happy Saint Patrick’s Day https://t.co/LpbY3ibfCq  \n",
      "93  1372336304806105092  RT @TheLyons_Den: Someone said it was Saint Pa...  \n",
      "94  1372336303346388995  @akent47 @CkFlakes On Saint Patrick’s Day. You...  \n",
      "\n",
      "[95 rows x 5 columns]\n"
     ]
    }
   ],
   "source": [
    "print(pandas.DataFrame(tweets.data)) # just like last time, use Pandas to format the output"
   ]
  },
  {
   "cell_type": "markdown",
   "metadata": {},
   "source": [
    "## Count Tweets\n",
    "\n",
    "So what if you didn't want to spend all of your limit on collecting tweets hoping the sample was what you wanted? Or, you wanted to get an estimate of how many tweets would be pulled for a particular query?\n",
    "\n",
    "This is where tweet counts come in.\n",
    "\n",
    "Tweet counts don't count toward your tweet cap, but they can reveal really important information."
   ]
  },
  {
   "cell_type": "code",
   "execution_count": 9,
   "metadata": {},
   "outputs": [],
   "source": [
    "count = client.get_all_tweets_count(\n",
    "    query=\"#tokyo\", # let's try a hashtag analysis\n",
    "    start_time=\"2021-07-01T00:00:00Z\",\n",
    "    end_time=\"2021-08-01T00:00:00Z\",\n",
    "    granularity=\"day\" # tell the API to count number of tweets per day (can also do hour or minute).\n",
    ")"
   ]
  },
  {
   "cell_type": "code",
   "execution_count": 11,
   "metadata": {},
   "outputs": [
    {
     "name": "stdout",
     "output_type": "stream",
     "text": [
      "                         end                     start  tweet_count\n",
      "0   2021-07-02T00:00:00.000Z  2021-07-01T00:00:00.000Z         6831\n",
      "1   2021-07-03T00:00:00.000Z  2021-07-02T00:00:00.000Z         4547\n",
      "2   2021-07-04T00:00:00.000Z  2021-07-03T00:00:00.000Z         7400\n",
      "3   2021-07-05T00:00:00.000Z  2021-07-04T00:00:00.000Z         6417\n",
      "4   2021-07-06T00:00:00.000Z  2021-07-05T00:00:00.000Z         5690\n",
      "5   2021-07-07T00:00:00.000Z  2021-07-06T00:00:00.000Z         5424\n",
      "6   2021-07-08T00:00:00.000Z  2021-07-07T00:00:00.000Z         7612\n",
      "7   2021-07-09T00:00:00.000Z  2021-07-08T00:00:00.000Z         7121\n",
      "8   2021-07-10T00:00:00.000Z  2021-07-09T00:00:00.000Z         6445\n",
      "9   2021-07-11T00:00:00.000Z  2021-07-10T00:00:00.000Z         9012\n",
      "10  2021-07-12T00:00:00.000Z  2021-07-11T00:00:00.000Z         9561\n",
      "11  2021-07-13T00:00:00.000Z  2021-07-12T00:00:00.000Z         4689\n",
      "12  2021-07-14T00:00:00.000Z  2021-07-13T00:00:00.000Z         6317\n",
      "13  2021-07-15T00:00:00.000Z  2021-07-14T00:00:00.000Z         5345\n",
      "14  2021-07-16T00:00:00.000Z  2021-07-15T00:00:00.000Z         4609\n",
      "15  2021-07-17T00:00:00.000Z  2021-07-16T00:00:00.000Z         3772\n",
      "16  2021-07-18T00:00:00.000Z  2021-07-17T00:00:00.000Z         5071\n",
      "17  2021-07-19T00:00:00.000Z  2021-07-18T00:00:00.000Z         6679\n",
      "18  2021-07-20T00:00:00.000Z  2021-07-19T00:00:00.000Z         5081\n",
      "19  2021-07-21T00:00:00.000Z  2021-07-20T00:00:00.000Z         5910\n",
      "20  2021-07-22T00:00:00.000Z  2021-07-21T00:00:00.000Z         8896\n",
      "21  2021-07-23T00:00:00.000Z  2021-07-22T00:00:00.000Z         8797\n",
      "22  2021-07-24T00:00:00.000Z  2021-07-23T00:00:00.000Z        17668\n",
      "23  2021-07-25T00:00:00.000Z  2021-07-24T00:00:00.000Z        13356\n",
      "24  2021-07-26T00:00:00.000Z  2021-07-25T00:00:00.000Z        14101\n",
      "25  2021-07-27T00:00:00.000Z  2021-07-26T00:00:00.000Z        14478\n",
      "26  2021-07-28T00:00:00.000Z  2021-07-27T00:00:00.000Z        12676\n",
      "27  2021-07-29T00:00:00.000Z  2021-07-28T00:00:00.000Z        11657\n",
      "28  2021-07-30T00:00:00.000Z  2021-07-29T00:00:00.000Z         8762\n",
      "29  2021-07-31T00:00:00.000Z  2021-07-30T00:00:00.000Z        10115\n",
      "30  2021-08-01T00:00:00.000Z  2021-07-31T00:00:00.000Z        13141\n"
     ]
    }
   ],
   "source": [
    "print(pandas.DataFrame(count.data)) # just like last time, use Pandas to format the output"
   ]
  },
  {
   "cell_type": "markdown",
   "metadata": {},
   "source": [
    "These results show the number of tweets by the level of granularity you selected. From this information we can now narrow our search to specific days or use this to create a visualization of tweets for a particular event.\n",
    "\n",
    "From these results, we can see how something as simple as a tweet count can already reveal interesting phenomena. In this case, the number of tweets per day mentioning the hashtag \\#tokyo seems to be consistently higher than normal starting on July 24th. Why do you think this is?"
   ]
  },
  {
   "cell_type": "markdown",
   "metadata": {},
   "source": [
    "## User Tweets\n",
    "\n",
    "Sometimes we may be interested in finding tweets by a specific user. We have to be careful here however! As humans, we typically identify users by their username, aka Twitter handle (e.g., @InfoTisayentist for Aspen). But the Twitter API instead identifies users by a numerical ID. Thankfully, Tweepy gives us tools to convert between the two:"
   ]
  },
  {
   "cell_type": "code",
   "execution_count": 13,
   "metadata": {},
   "outputs": [
    {
     "name": "stdout",
     "output_type": "stream",
     "text": [
      "Response(data=<User id=872555593260838912 name=Aspen username=InfoTisayentist>, includes={}, errors=[], meta={})\n"
     ]
    }
   ],
   "source": [
    "user_info = client.get_user(username=\"InfoTisayentist\") # look up information for the user InfoTisayentist\n",
    "print(user_info) # note the \"id\" variable!"
   ]
  },
  {
   "cell_type": "markdown",
   "metadata": {},
   "source": [
    "Once we have found a user's numerical ID, we can use this to look up their tweets."
   ]
  },
  {
   "cell_type": "code",
   "execution_count": 19,
   "metadata": {},
   "outputs": [
    {
     "name": "stdout",
     "output_type": "stream",
     "text": [
      "                    id                                               text\n",
      "0  1345070201180622848  RT @hood_naturalist: HERE WE GO!!!!!\\n\\nWhat w...\n"
     ]
    }
   ],
   "source": [
    "profile_tweets = client.get_users_tweets(\n",
    "    id=872555593260838912, # InfoTisayentist's ID that we retrieved above\n",
    "    start_time=\"2021-01-01T00:00:00Z\",\n",
    "    end_time=\"2021-01-05T00:00:00Z\",\n",
    "    max_results=100\n",
    ")\n",
    "print(pandas.DataFrame(profile_tweets.data).head(5))"
   ]
  },
  {
   "cell_type": "markdown",
   "metadata": {},
   "source": [
    "## Conversation Threads\n",
    "\n",
    "Here we can see how using one query can factor into other searches. You could use a tweet or user search to identify a specific conversation that you want to dig into. The key to this is the `query` parameter in `search_all_tweets`. Previously, we have only provided text queries. But we can also query by other fields, as we will demonstrate here with `conversation_id`:\n",
    "\n",
    "Feel free to swap the conversation ID with something more interesting!"
   ]
  },
  {
   "cell_type": "code",
   "execution_count": 30,
   "metadata": {},
   "outputs": [
    {
     "name": "stdout",
     "output_type": "stream",
     "text": [
      "                    id                                               text\n",
      "0  1372336303346388995  @akent47 @CkFlakes On Saint Patrick’s Day. You...\n",
      "1  1372307552084533249  @PRIMExSUSPECT @CkFlakes I’ll buy you a drink....\n",
      "2  1372291391242440708             @akent47 @CkFlakes Buy me a beer Alan.\n",
      "3  1372277883935191043  @CkFlakes wanna buy me a draaaank? ooooooOOOOO...\n"
     ]
    }
   ],
   "source": [
    "thread_tweets = client.search_all_tweets(\n",
    "    # Replace with ID of your choice to get replies (this ID is from the St Pat original set)\n",
    "    query=\"conversation_id:1372268967516123137\",\n",
    "    start_time = \"2021-03-01T00:00:00Z\",\n",
    "    end_time = \"2021-03-30T00:00:00Z\",\n",
    "    max_results=100\n",
    ")\n",
    "print(pandas.DataFrame(thread_tweets.data).head(5))"
   ]
  },
  {
   "cell_type": "markdown",
   "metadata": {},
   "source": [
    "## Geo-tagged Tweets\n",
    "\n",
    "Text queries and field-based queries are not mutually exclusive, a single query can contain both plain text to search for and specify individual fields. Let's demonstrate using a common use case: location filtering.\n",
    "\n",
    "Location is really important information. Remember when Facebook added the \"checking in\" feature during natural disasters? Well, we can search for Tweets that specifically have location information embedded in those tweets.\n",
    "\n",
    "Specifying `has:geo` in a query filters the search criteria to only the tweets with this information."
   ]
  },
  {
   "cell_type": "code",
   "execution_count": 31,
   "metadata": {},
   "outputs": [
    {
     "name": "stdout",
     "output_type": "stream",
     "text": [
      "                    id                                               text\n",
      "0  1483949733311827973  .@DelmarvaSports \\n@47ABCSports \\n@DelmarvaSco...\n",
      "1  1483948293830832129  @Holdem_junkie Ive had pupusas as my game day ...\n",
      "2  1483947221787754504  @gimmethewooby @SportsSturm In the 49ers heyda...\n",
      "3  1483942805282168836  @CourageTiger I personally didn't care if the ...\n",
      "4  1483938356065153027  Bengals x Titans: Bengals\\n49ers x Packers: Pa...\n"
     ]
    }
   ],
   "source": [
    "rams_geo = client.search_all_tweets(\n",
    "    # \"rams\" is a super generic search term...but what if we limit to geo-tagged tweets around the time the LA Rams were playing?\n",
    "    query=\"rams has:geo\", \n",
    "    start_time=\"2022-01-15T00:00:00Z\",\n",
    "    end_time=\"2022-01-20T00:00:00Z\",\n",
    "    max_results=100\n",
    ")\n",
    "print(pandas.DataFrame(rams_geo.data).head(5))"
   ]
  },
  {
   "cell_type": "markdown",
   "metadata": {},
   "source": [
    "Location information can be `geo.place_id` or coordinates. If the former, then one more step is needed to convert the place code to a location (on how to do that here: https://developer.twitter.com/en/docs/twitter-api/v1/geo/places-near-location/api-reference/get-geo-reverse_geocode)"
   ]
  },
  {
   "cell_type": "markdown",
   "metadata": {},
   "source": [
    "## Advanced Parameters\n",
    "\n",
    "So far, we've augmented our naive text searches with two advanced parameters: `conversation_id` and `has:geo`. But this doesn't even begin to scratch the surface of ways we can customize our queries! There is too much to cover in a single workshop, but we encourage you to read the official documentation to learn more about all the parameters you can use: https://developer.twitter.com/en/docs/twitter-api/tweets/search/integrate/build-a-query. For now, we will leave you with an example of a specific query we might use in practice:"
   ]
  },
  {
   "cell_type": "code",
   "execution_count": 32,
   "metadata": {},
   "outputs": [
    {
     "name": "stdout",
     "output_type": "stream",
     "text": [
      "                    id                                               text\n",
      "0  1483935951705444352  Attendance was very low for Rams games at Anah...\n",
      "1  1483899947535638532  @DamonBruce @ArashMarkazi This guy got a blue ...\n",
      "2  1483841939669544960  @laurafh16 @seattlerams_nfl That's all they ca...\n",
      "3  1483642755674951686  About to rewatch yesterday’s game against the ...\n",
      "4  1483639044344934401  @Larryk520 I was talking about the Rams, but t...\n"
     ]
    }
   ],
   "source": [
    "tweets_advanced = client.search_all_tweets(\n",
    "    # an advanced query combining several parameters\n",
    "    query='rams has:geo place:\"los angeles\" lang:en -is:retweet -is:verified',\n",
    "    start_time=\"2022-01-15T00:00:00Z\",\n",
    "    end_time=\"2022-01-20T00:00:00Z\",\n",
    "    max_results=100\n",
    ")\n",
    "print(pandas.DataFrame(tweets_advanced.data).head(5))"
   ]
  },
  {
   "cell_type": "markdown",
   "metadata": {},
   "source": [
    "## Final Word\n",
    "\n",
    "Congratulations! You have overcome perhaps the most daunting hurdle in using APIs. Which would be using an API. It is important to remember that your queries will not always be perfect or capture exactly what you want. That's okay, there are a slew of resources on data management and cleaning that help you get to the final step which will look more like a dataset worthy of analysis.\n",
    "\n",
    "Well done and I wish you the best with your computational social science endeavors!\n",
    "\n",
    "## Resources\n",
    "Official Twitter API V2 developer documentation: https://developer.twitter.com/en/docs/twitter-api\n",
    "\n",
    "Twitter API V2 Sample Code: https://github.com/twitterdev/getting-started-with-the-twitter-api-v2-for-academic-research "
   ]
  }
 ],
 "metadata": {
  "kernelspec": {
   "display_name": "Python 3 (ipykernel)",
   "language": "python",
   "name": "python3"
  },
  "language_info": {
   "codemirror_mode": {
    "name": "ipython",
    "version": 3
   },
   "file_extension": ".py",
   "mimetype": "text/x-python",
   "name": "python",
   "nbconvert_exporter": "python",
   "pygments_lexer": "ipython3",
   "version": "3.9.7"
  }
 },
 "nbformat": 4,
 "nbformat_minor": 4
}
